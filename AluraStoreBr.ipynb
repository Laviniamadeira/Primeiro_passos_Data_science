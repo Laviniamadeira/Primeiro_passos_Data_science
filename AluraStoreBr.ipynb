{
  "nbformat": 4,
  "nbformat_minor": 0,
  "metadata": {
    "colab": {
      "provenance": [],
      "include_colab_link": true
    },
    "kernelspec": {
      "name": "python3",
      "display_name": "Python 3"
    },
    "language_info": {
      "name": "python"
    }
  },
  "cells": [
    {
      "cell_type": "markdown",
      "metadata": {
        "id": "view-in-github",
        "colab_type": "text"
      },
      "source": [
        "<a href=\"https://colab.research.google.com/github/Laviniamadeira/Primeiro_passos_Data_science/blob/main/AluraStoreBr.ipynb\" target=\"_parent\"><img src=\"https://colab.research.google.com/assets/colab-badge.svg\" alt=\"Open In Colab\"/></a>"
      ]
    },
    {
      "cell_type": "markdown",
      "source": [
        "### Importação dos dados\n",
        "\n"
      ],
      "metadata": {
        "id": "RhEdWd9YUR6H"
      }
    },
    {
      "cell_type": "code",
      "execution_count": 24,
      "metadata": {
        "colab": {
          "base_uri": "https://localhost:8080/",
          "height": 258
        },
        "id": "T3EvaeQ_INIL",
        "outputId": "baac54f0-ca70-40a0-90f2-e00a22bf1952"
      },
      "outputs": [
        {
          "output_type": "execute_result",
          "data": {
            "text/plain": [
              "                 Produto Categoria do Produto    Preço      Frete  \\\n",
              "0     Assistente virtual          eletronicos   219.08   9.249790   \n",
              "1         Mesa de jantar               moveis   256.35  11.234305   \n",
              "2      Jogo de tabuleiro           brinquedos   279.51  21.262681   \n",
              "3            Micro-ondas     eletrodomesticos  1009.99  54.667344   \n",
              "4  Cadeira de escritório               moveis   446.99  26.964689   \n",
              "\n",
              "  Data da Compra        Vendedor Local da compra  Avaliação da compra  \\\n",
              "0     16/01/2021     Pedro Gomes              SP                    4   \n",
              "1     18/05/2022  Beatriz Moraes              RJ                    1   \n",
              "2     15/03/2021      João Souza              DF                    1   \n",
              "3     03/05/2022      João Souza              RS                    4   \n",
              "4     07/11/2020   Larissa Alves              MG                    5   \n",
              "\n",
              "  Tipo de pagamento  Quantidade de parcelas    lat    lon  \n",
              "0    cartao_credito                       8 -22.19 -48.79  \n",
              "1    cartao_credito                       4 -22.25 -42.66  \n",
              "2    cartao_credito                       1 -15.83 -47.86  \n",
              "3            boleto                       1 -30.17 -53.50  \n",
              "4            boleto                       1 -18.10 -44.38  "
            ],
            "text/html": [
              "\n",
              "  <div id=\"df-8b2220c4-8303-41c4-9161-b66eaea93a2f\" class=\"colab-df-container\">\n",
              "    <div>\n",
              "<style scoped>\n",
              "    .dataframe tbody tr th:only-of-type {\n",
              "        vertical-align: middle;\n",
              "    }\n",
              "\n",
              "    .dataframe tbody tr th {\n",
              "        vertical-align: top;\n",
              "    }\n",
              "\n",
              "    .dataframe thead th {\n",
              "        text-align: right;\n",
              "    }\n",
              "</style>\n",
              "<table border=\"1\" class=\"dataframe\">\n",
              "  <thead>\n",
              "    <tr style=\"text-align: right;\">\n",
              "      <th></th>\n",
              "      <th>Produto</th>\n",
              "      <th>Categoria do Produto</th>\n",
              "      <th>Preço</th>\n",
              "      <th>Frete</th>\n",
              "      <th>Data da Compra</th>\n",
              "      <th>Vendedor</th>\n",
              "      <th>Local da compra</th>\n",
              "      <th>Avaliação da compra</th>\n",
              "      <th>Tipo de pagamento</th>\n",
              "      <th>Quantidade de parcelas</th>\n",
              "      <th>lat</th>\n",
              "      <th>lon</th>\n",
              "    </tr>\n",
              "  </thead>\n",
              "  <tbody>\n",
              "    <tr>\n",
              "      <th>0</th>\n",
              "      <td>Assistente virtual</td>\n",
              "      <td>eletronicos</td>\n",
              "      <td>219.08</td>\n",
              "      <td>9.249790</td>\n",
              "      <td>16/01/2021</td>\n",
              "      <td>Pedro Gomes</td>\n",
              "      <td>SP</td>\n",
              "      <td>4</td>\n",
              "      <td>cartao_credito</td>\n",
              "      <td>8</td>\n",
              "      <td>-22.19</td>\n",
              "      <td>-48.79</td>\n",
              "    </tr>\n",
              "    <tr>\n",
              "      <th>1</th>\n",
              "      <td>Mesa de jantar</td>\n",
              "      <td>moveis</td>\n",
              "      <td>256.35</td>\n",
              "      <td>11.234305</td>\n",
              "      <td>18/05/2022</td>\n",
              "      <td>Beatriz Moraes</td>\n",
              "      <td>RJ</td>\n",
              "      <td>1</td>\n",
              "      <td>cartao_credito</td>\n",
              "      <td>4</td>\n",
              "      <td>-22.25</td>\n",
              "      <td>-42.66</td>\n",
              "    </tr>\n",
              "    <tr>\n",
              "      <th>2</th>\n",
              "      <td>Jogo de tabuleiro</td>\n",
              "      <td>brinquedos</td>\n",
              "      <td>279.51</td>\n",
              "      <td>21.262681</td>\n",
              "      <td>15/03/2021</td>\n",
              "      <td>João Souza</td>\n",
              "      <td>DF</td>\n",
              "      <td>1</td>\n",
              "      <td>cartao_credito</td>\n",
              "      <td>1</td>\n",
              "      <td>-15.83</td>\n",
              "      <td>-47.86</td>\n",
              "    </tr>\n",
              "    <tr>\n",
              "      <th>3</th>\n",
              "      <td>Micro-ondas</td>\n",
              "      <td>eletrodomesticos</td>\n",
              "      <td>1009.99</td>\n",
              "      <td>54.667344</td>\n",
              "      <td>03/05/2022</td>\n",
              "      <td>João Souza</td>\n",
              "      <td>RS</td>\n",
              "      <td>4</td>\n",
              "      <td>boleto</td>\n",
              "      <td>1</td>\n",
              "      <td>-30.17</td>\n",
              "      <td>-53.50</td>\n",
              "    </tr>\n",
              "    <tr>\n",
              "      <th>4</th>\n",
              "      <td>Cadeira de escritório</td>\n",
              "      <td>moveis</td>\n",
              "      <td>446.99</td>\n",
              "      <td>26.964689</td>\n",
              "      <td>07/11/2020</td>\n",
              "      <td>Larissa Alves</td>\n",
              "      <td>MG</td>\n",
              "      <td>5</td>\n",
              "      <td>boleto</td>\n",
              "      <td>1</td>\n",
              "      <td>-18.10</td>\n",
              "      <td>-44.38</td>\n",
              "    </tr>\n",
              "  </tbody>\n",
              "</table>\n",
              "</div>\n",
              "    <div class=\"colab-df-buttons\">\n",
              "\n",
              "  <div class=\"colab-df-container\">\n",
              "    <button class=\"colab-df-convert\" onclick=\"convertToInteractive('df-8b2220c4-8303-41c4-9161-b66eaea93a2f')\"\n",
              "            title=\"Convert this dataframe to an interactive table.\"\n",
              "            style=\"display:none;\">\n",
              "\n",
              "  <svg xmlns=\"http://www.w3.org/2000/svg\" height=\"24px\" viewBox=\"0 -960 960 960\">\n",
              "    <path d=\"M120-120v-720h720v720H120Zm60-500h600v-160H180v160Zm220 220h160v-160H400v160Zm0 220h160v-160H400v160ZM180-400h160v-160H180v160Zm440 0h160v-160H620v160ZM180-180h160v-160H180v160Zm440 0h160v-160H620v160Z\"/>\n",
              "  </svg>\n",
              "    </button>\n",
              "\n",
              "  <style>\n",
              "    .colab-df-container {\n",
              "      display:flex;\n",
              "      gap: 12px;\n",
              "    }\n",
              "\n",
              "    .colab-df-convert {\n",
              "      background-color: #E8F0FE;\n",
              "      border: none;\n",
              "      border-radius: 50%;\n",
              "      cursor: pointer;\n",
              "      display: none;\n",
              "      fill: #1967D2;\n",
              "      height: 32px;\n",
              "      padding: 0 0 0 0;\n",
              "      width: 32px;\n",
              "    }\n",
              "\n",
              "    .colab-df-convert:hover {\n",
              "      background-color: #E2EBFA;\n",
              "      box-shadow: 0px 1px 2px rgba(60, 64, 67, 0.3), 0px 1px 3px 1px rgba(60, 64, 67, 0.15);\n",
              "      fill: #174EA6;\n",
              "    }\n",
              "\n",
              "    .colab-df-buttons div {\n",
              "      margin-bottom: 4px;\n",
              "    }\n",
              "\n",
              "    [theme=dark] .colab-df-convert {\n",
              "      background-color: #3B4455;\n",
              "      fill: #D2E3FC;\n",
              "    }\n",
              "\n",
              "    [theme=dark] .colab-df-convert:hover {\n",
              "      background-color: #434B5C;\n",
              "      box-shadow: 0px 1px 3px 1px rgba(0, 0, 0, 0.15);\n",
              "      filter: drop-shadow(0px 1px 2px rgba(0, 0, 0, 0.3));\n",
              "      fill: #FFFFFF;\n",
              "    }\n",
              "  </style>\n",
              "\n",
              "    <script>\n",
              "      const buttonEl =\n",
              "        document.querySelector('#df-8b2220c4-8303-41c4-9161-b66eaea93a2f button.colab-df-convert');\n",
              "      buttonEl.style.display =\n",
              "        google.colab.kernel.accessAllowed ? 'block' : 'none';\n",
              "\n",
              "      async function convertToInteractive(key) {\n",
              "        const element = document.querySelector('#df-8b2220c4-8303-41c4-9161-b66eaea93a2f');\n",
              "        const dataTable =\n",
              "          await google.colab.kernel.invokeFunction('convertToInteractive',\n",
              "                                                    [key], {});\n",
              "        if (!dataTable) return;\n",
              "\n",
              "        const docLinkHtml = 'Like what you see? Visit the ' +\n",
              "          '<a target=\"_blank\" href=https://colab.research.google.com/notebooks/data_table.ipynb>data table notebook</a>'\n",
              "          + ' to learn more about interactive tables.';\n",
              "        element.innerHTML = '';\n",
              "        dataTable['output_type'] = 'display_data';\n",
              "        await google.colab.output.renderOutput(dataTable, element);\n",
              "        const docLink = document.createElement('div');\n",
              "        docLink.innerHTML = docLinkHtml;\n",
              "        element.appendChild(docLink);\n",
              "      }\n",
              "    </script>\n",
              "  </div>\n",
              "\n",
              "\n",
              "    <div id=\"df-ce278ec2-4674-42fc-a233-a966c0e86098\">\n",
              "      <button class=\"colab-df-quickchart\" onclick=\"quickchart('df-ce278ec2-4674-42fc-a233-a966c0e86098')\"\n",
              "                title=\"Suggest charts\"\n",
              "                style=\"display:none;\">\n",
              "\n",
              "<svg xmlns=\"http://www.w3.org/2000/svg\" height=\"24px\"viewBox=\"0 0 24 24\"\n",
              "     width=\"24px\">\n",
              "    <g>\n",
              "        <path d=\"M19 3H5c-1.1 0-2 .9-2 2v14c0 1.1.9 2 2 2h14c1.1 0 2-.9 2-2V5c0-1.1-.9-2-2-2zM9 17H7v-7h2v7zm4 0h-2V7h2v10zm4 0h-2v-4h2v4z\"/>\n",
              "    </g>\n",
              "</svg>\n",
              "      </button>\n",
              "\n",
              "<style>\n",
              "  .colab-df-quickchart {\n",
              "      --bg-color: #E8F0FE;\n",
              "      --fill-color: #1967D2;\n",
              "      --hover-bg-color: #E2EBFA;\n",
              "      --hover-fill-color: #174EA6;\n",
              "      --disabled-fill-color: #AAA;\n",
              "      --disabled-bg-color: #DDD;\n",
              "  }\n",
              "\n",
              "  [theme=dark] .colab-df-quickchart {\n",
              "      --bg-color: #3B4455;\n",
              "      --fill-color: #D2E3FC;\n",
              "      --hover-bg-color: #434B5C;\n",
              "      --hover-fill-color: #FFFFFF;\n",
              "      --disabled-bg-color: #3B4455;\n",
              "      --disabled-fill-color: #666;\n",
              "  }\n",
              "\n",
              "  .colab-df-quickchart {\n",
              "    background-color: var(--bg-color);\n",
              "    border: none;\n",
              "    border-radius: 50%;\n",
              "    cursor: pointer;\n",
              "    display: none;\n",
              "    fill: var(--fill-color);\n",
              "    height: 32px;\n",
              "    padding: 0;\n",
              "    width: 32px;\n",
              "  }\n",
              "\n",
              "  .colab-df-quickchart:hover {\n",
              "    background-color: var(--hover-bg-color);\n",
              "    box-shadow: 0 1px 2px rgba(60, 64, 67, 0.3), 0 1px 3px 1px rgba(60, 64, 67, 0.15);\n",
              "    fill: var(--button-hover-fill-color);\n",
              "  }\n",
              "\n",
              "  .colab-df-quickchart-complete:disabled,\n",
              "  .colab-df-quickchart-complete:disabled:hover {\n",
              "    background-color: var(--disabled-bg-color);\n",
              "    fill: var(--disabled-fill-color);\n",
              "    box-shadow: none;\n",
              "  }\n",
              "\n",
              "  .colab-df-spinner {\n",
              "    border: 2px solid var(--fill-color);\n",
              "    border-color: transparent;\n",
              "    border-bottom-color: var(--fill-color);\n",
              "    animation:\n",
              "      spin 1s steps(1) infinite;\n",
              "  }\n",
              "\n",
              "  @keyframes spin {\n",
              "    0% {\n",
              "      border-color: transparent;\n",
              "      border-bottom-color: var(--fill-color);\n",
              "      border-left-color: var(--fill-color);\n",
              "    }\n",
              "    20% {\n",
              "      border-color: transparent;\n",
              "      border-left-color: var(--fill-color);\n",
              "      border-top-color: var(--fill-color);\n",
              "    }\n",
              "    30% {\n",
              "      border-color: transparent;\n",
              "      border-left-color: var(--fill-color);\n",
              "      border-top-color: var(--fill-color);\n",
              "      border-right-color: var(--fill-color);\n",
              "    }\n",
              "    40% {\n",
              "      border-color: transparent;\n",
              "      border-right-color: var(--fill-color);\n",
              "      border-top-color: var(--fill-color);\n",
              "    }\n",
              "    60% {\n",
              "      border-color: transparent;\n",
              "      border-right-color: var(--fill-color);\n",
              "    }\n",
              "    80% {\n",
              "      border-color: transparent;\n",
              "      border-right-color: var(--fill-color);\n",
              "      border-bottom-color: var(--fill-color);\n",
              "    }\n",
              "    90% {\n",
              "      border-color: transparent;\n",
              "      border-bottom-color: var(--fill-color);\n",
              "    }\n",
              "  }\n",
              "</style>\n",
              "\n",
              "      <script>\n",
              "        async function quickchart(key) {\n",
              "          const quickchartButtonEl =\n",
              "            document.querySelector('#' + key + ' button');\n",
              "          quickchartButtonEl.disabled = true;  // To prevent multiple clicks.\n",
              "          quickchartButtonEl.classList.add('colab-df-spinner');\n",
              "          try {\n",
              "            const charts = await google.colab.kernel.invokeFunction(\n",
              "                'suggestCharts', [key], {});\n",
              "          } catch (error) {\n",
              "            console.error('Error during call to suggestCharts:', error);\n",
              "          }\n",
              "          quickchartButtonEl.classList.remove('colab-df-spinner');\n",
              "          quickchartButtonEl.classList.add('colab-df-quickchart-complete');\n",
              "        }\n",
              "        (() => {\n",
              "          let quickchartButtonEl =\n",
              "            document.querySelector('#df-ce278ec2-4674-42fc-a233-a966c0e86098 button');\n",
              "          quickchartButtonEl.style.display =\n",
              "            google.colab.kernel.accessAllowed ? 'block' : 'none';\n",
              "        })();\n",
              "      </script>\n",
              "    </div>\n",
              "\n",
              "    </div>\n",
              "  </div>\n"
            ],
            "application/vnd.google.colaboratory.intrinsic+json": {
              "type": "dataframe",
              "variable_name": "loja",
              "summary": "{\n  \"name\": \"loja\",\n  \"rows\": 2359,\n  \"fields\": [\n    {\n      \"column\": \"Produto\",\n      \"properties\": {\n        \"dtype\": \"category\",\n        \"num_unique_values\": 51,\n        \"samples\": [\n          \"Viol\\u00e3o\",\n          \"Bola de basquete\",\n          \"Smartwatch\"\n        ],\n        \"semantic_type\": \"\",\n        \"description\": \"\"\n      }\n    },\n    {\n      \"column\": \"Categoria do Produto\",\n      \"properties\": {\n        \"dtype\": \"category\",\n        \"num_unique_values\": 8,\n        \"samples\": [\n          \"moveis\",\n          \"esporte e lazer\",\n          \"eletronicos\"\n        ],\n        \"semantic_type\": \"\",\n        \"description\": \"\"\n      }\n    },\n    {\n      \"column\": \"Pre\\u00e7o\",\n      \"properties\": {\n        \"dtype\": \"number\",\n        \"std\": 819.5827782539145,\n        \"min\": 10.07,\n        \"max\": 3969.38,\n        \"num_unique_values\": 2315,\n        \"samples\": [\n          446.11,\n          107.31,\n          65.86\n        ],\n        \"semantic_type\": \"\",\n        \"description\": \"\"\n      }\n    },\n    {\n      \"column\": \"Frete\",\n      \"properties\": {\n        \"dtype\": \"number\",\n        \"std\": 43.814183327408166,\n        \"min\": 0.0,\n        \"max\": 214.3770604781,\n        \"num_unique_values\": 2149,\n        \"samples\": [\n          83.815279607,\n          16.069664669,\n          14.0344876928\n        ],\n        \"semantic_type\": \"\",\n        \"description\": \"\"\n      }\n    },\n    {\n      \"column\": \"Data da Compra\",\n      \"properties\": {\n        \"dtype\": \"object\",\n        \"num_unique_values\": 1018,\n        \"samples\": [\n          \"15/09/2022\",\n          \"03/06/2020\",\n          \"06/11/2021\"\n        ],\n        \"semantic_type\": \"\",\n        \"description\": \"\"\n      }\n    },\n    {\n      \"column\": \"Vendedor\",\n      \"properties\": {\n        \"dtype\": \"category\",\n        \"num_unique_values\": 14,\n        \"samples\": [\n          \"Juliana Costa\",\n          \"Mariana Ferreira\",\n          \"Pedro Gomes\"\n        ],\n        \"semantic_type\": \"\",\n        \"description\": \"\"\n      }\n    },\n    {\n      \"column\": \"Local da compra\",\n      \"properties\": {\n        \"dtype\": \"category\",\n        \"num_unique_values\": 26,\n        \"samples\": [\n          \"TO\",\n          \"RN\",\n          \"SP\"\n        ],\n        \"semantic_type\": \"\",\n        \"description\": \"\"\n      }\n    },\n    {\n      \"column\": \"Avalia\\u00e7\\u00e3o da compra\",\n      \"properties\": {\n        \"dtype\": \"number\",\n        \"std\": 1,\n        \"min\": 1,\n        \"max\": 5,\n        \"num_unique_values\": 5,\n        \"samples\": [\n          1,\n          2,\n          5\n        ],\n        \"semantic_type\": \"\",\n        \"description\": \"\"\n      }\n    },\n    {\n      \"column\": \"Tipo de pagamento\",\n      \"properties\": {\n        \"dtype\": \"category\",\n        \"num_unique_values\": 4,\n        \"samples\": [\n          \"boleto\",\n          \"cartao_debito\",\n          \"cartao_credito\"\n        ],\n        \"semantic_type\": \"\",\n        \"description\": \"\"\n      }\n    },\n    {\n      \"column\": \"Quantidade de parcelas\",\n      \"properties\": {\n        \"dtype\": \"number\",\n        \"std\": 2,\n        \"min\": 1,\n        \"max\": 24,\n        \"num_unique_values\": 15,\n        \"samples\": [\n          7,\n          14,\n          8\n        ],\n        \"semantic_type\": \"\",\n        \"description\": \"\"\n      }\n    },\n    {\n      \"column\": \"lat\",\n      \"properties\": {\n        \"dtype\": \"number\",\n        \"std\": 5.372399916530833,\n        \"min\": -30.17,\n        \"max\": 1.41,\n        \"num_unique_values\": 26,\n        \"samples\": [\n          -9.46,\n          -5.81,\n          -22.19\n        ],\n        \"semantic_type\": \"\",\n        \"description\": \"\"\n      }\n    },\n    {\n      \"column\": \"lon\",\n      \"properties\": {\n        \"dtype\": \"number\",\n        \"std\": 4.183180020544179,\n        \"min\": -70.55,\n        \"max\": -36.59,\n        \"num_unique_values\": 26,\n        \"samples\": [\n          -48.26,\n          -36.59,\n          -48.79\n        ],\n        \"semantic_type\": \"\",\n        \"description\": \"\"\n      }\n    }\n  ]\n}"
            }
          },
          "metadata": {},
          "execution_count": 24
        }
      ],
      "source": [
        "import pandas as pd\n",
        "import matplotlib.pyplot as plt\n",
        "import seaborn as sns\n",
        "import math\n",
        "import numpy as np\n",
        "\n",
        "url = \"https://raw.githubusercontent.com/alura-es-cursos/challenge1-data-science/refs/heads/main/base-de-dados-challenge-1/loja_1.csv\"\n",
        "url2 = \"https://raw.githubusercontent.com/alura-es-cursos/challenge1-data-science/refs/heads/main/base-de-dados-challenge-1/loja_2.csv\"\n",
        "url3 = \"https://raw.githubusercontent.com/alura-es-cursos/challenge1-data-science/refs/heads/main/base-de-dados-challenge-1/loja_3.csv\"\n",
        "url4 = \"https://raw.githubusercontent.com/alura-es-cursos/challenge1-data-science/refs/heads/main/base-de-dados-challenge-1/loja_4.csv\"\n",
        "\n",
        "loja = pd.read_csv(url)\n",
        "loja2 = pd.read_csv(url2)\n",
        "loja3 = pd.read_csv(url3)\n",
        "loja4 = pd.read_csv(url4)\n",
        "\n",
        "loja.head()"
      ]
    },
    {
      "cell_type": "code",
      "source": [
        "display(loja)\n"
      ],
      "metadata": {
        "id": "hwCFrV1o3icb",
        "colab": {
          "base_uri": "https://localhost:8080/",
          "height": 510
        },
        "outputId": "5c5b31b5-9f82-40da-ddf9-8d804343546c"
      },
      "execution_count": 25,
      "outputs": [
        {
          "output_type": "display_data",
          "data": {
            "text/plain": [
              "                    Produto Categoria do Produto    Preço      Frete  \\\n",
              "0        Assistente virtual          eletronicos   219.08   9.249790   \n",
              "1            Mesa de jantar               moveis   256.35  11.234305   \n",
              "2         Jogo de tabuleiro           brinquedos   279.51  21.262681   \n",
              "3               Micro-ondas     eletrodomesticos  1009.99  54.667344   \n",
              "4     Cadeira de escritório               moveis   446.99  26.964689   \n",
              "...                     ...                  ...      ...        ...   \n",
              "2354       Celular Plus X42          eletronicos  1712.54  88.772042   \n",
              "2355             Impressora          eletronicos   377.02  20.363958   \n",
              "2356      Jogo de tabuleiro           brinquedos   163.82   9.611337   \n",
              "2357               Cama box               moveis   921.77  46.665919   \n",
              "2358             Smartwatch          eletronicos   259.95  11.425995   \n",
              "\n",
              "     Data da Compra        Vendedor Local da compra  Avaliação da compra  \\\n",
              "0        16/01/2021     Pedro Gomes              SP                    4   \n",
              "1        18/05/2022  Beatriz Moraes              RJ                    1   \n",
              "2        15/03/2021      João Souza              DF                    1   \n",
              "3        03/05/2022      João Souza              RS                    4   \n",
              "4        07/11/2020   Larissa Alves              MG                    5   \n",
              "...             ...             ...             ...                  ...   \n",
              "2354     15/11/2021    Thiago Silva              RJ                    1   \n",
              "2355     18/03/2023  Lucas Oliveira              SP                    5   \n",
              "2356     06/07/2021  Lucas Oliveira              PR                    5   \n",
              "2357     02/05/2022     Pedro Gomes              RN                    1   \n",
              "2358     18/06/2022   Felipe Santos              RS                    4   \n",
              "\n",
              "     Tipo de pagamento  Quantidade de parcelas    lat    lon  \n",
              "0       cartao_credito                       8 -22.19 -48.79  \n",
              "1       cartao_credito                       4 -22.25 -42.66  \n",
              "2       cartao_credito                       1 -15.83 -47.86  \n",
              "3               boleto                       1 -30.17 -53.50  \n",
              "4               boleto                       1 -18.10 -44.38  \n",
              "...                ...                     ...    ...    ...  \n",
              "2354            boleto                       1 -22.25 -42.66  \n",
              "2355            boleto                       1 -22.19 -48.79  \n",
              "2356    cartao_credito                       4 -24.89 -51.55  \n",
              "2357    cartao_credito                       2  -5.81 -36.59  \n",
              "2358    cartao_credito                       1 -30.17 -53.50  \n",
              "\n",
              "[2359 rows x 12 columns]"
            ],
            "text/html": [
              "\n",
              "  <div id=\"df-c2c5017c-d00a-4c17-b299-638e7345da2b\" class=\"colab-df-container\">\n",
              "    <div>\n",
              "<style scoped>\n",
              "    .dataframe tbody tr th:only-of-type {\n",
              "        vertical-align: middle;\n",
              "    }\n",
              "\n",
              "    .dataframe tbody tr th {\n",
              "        vertical-align: top;\n",
              "    }\n",
              "\n",
              "    .dataframe thead th {\n",
              "        text-align: right;\n",
              "    }\n",
              "</style>\n",
              "<table border=\"1\" class=\"dataframe\">\n",
              "  <thead>\n",
              "    <tr style=\"text-align: right;\">\n",
              "      <th></th>\n",
              "      <th>Produto</th>\n",
              "      <th>Categoria do Produto</th>\n",
              "      <th>Preço</th>\n",
              "      <th>Frete</th>\n",
              "      <th>Data da Compra</th>\n",
              "      <th>Vendedor</th>\n",
              "      <th>Local da compra</th>\n",
              "      <th>Avaliação da compra</th>\n",
              "      <th>Tipo de pagamento</th>\n",
              "      <th>Quantidade de parcelas</th>\n",
              "      <th>lat</th>\n",
              "      <th>lon</th>\n",
              "    </tr>\n",
              "  </thead>\n",
              "  <tbody>\n",
              "    <tr>\n",
              "      <th>0</th>\n",
              "      <td>Assistente virtual</td>\n",
              "      <td>eletronicos</td>\n",
              "      <td>219.08</td>\n",
              "      <td>9.249790</td>\n",
              "      <td>16/01/2021</td>\n",
              "      <td>Pedro Gomes</td>\n",
              "      <td>SP</td>\n",
              "      <td>4</td>\n",
              "      <td>cartao_credito</td>\n",
              "      <td>8</td>\n",
              "      <td>-22.19</td>\n",
              "      <td>-48.79</td>\n",
              "    </tr>\n",
              "    <tr>\n",
              "      <th>1</th>\n",
              "      <td>Mesa de jantar</td>\n",
              "      <td>moveis</td>\n",
              "      <td>256.35</td>\n",
              "      <td>11.234305</td>\n",
              "      <td>18/05/2022</td>\n",
              "      <td>Beatriz Moraes</td>\n",
              "      <td>RJ</td>\n",
              "      <td>1</td>\n",
              "      <td>cartao_credito</td>\n",
              "      <td>4</td>\n",
              "      <td>-22.25</td>\n",
              "      <td>-42.66</td>\n",
              "    </tr>\n",
              "    <tr>\n",
              "      <th>2</th>\n",
              "      <td>Jogo de tabuleiro</td>\n",
              "      <td>brinquedos</td>\n",
              "      <td>279.51</td>\n",
              "      <td>21.262681</td>\n",
              "      <td>15/03/2021</td>\n",
              "      <td>João Souza</td>\n",
              "      <td>DF</td>\n",
              "      <td>1</td>\n",
              "      <td>cartao_credito</td>\n",
              "      <td>1</td>\n",
              "      <td>-15.83</td>\n",
              "      <td>-47.86</td>\n",
              "    </tr>\n",
              "    <tr>\n",
              "      <th>3</th>\n",
              "      <td>Micro-ondas</td>\n",
              "      <td>eletrodomesticos</td>\n",
              "      <td>1009.99</td>\n",
              "      <td>54.667344</td>\n",
              "      <td>03/05/2022</td>\n",
              "      <td>João Souza</td>\n",
              "      <td>RS</td>\n",
              "      <td>4</td>\n",
              "      <td>boleto</td>\n",
              "      <td>1</td>\n",
              "      <td>-30.17</td>\n",
              "      <td>-53.50</td>\n",
              "    </tr>\n",
              "    <tr>\n",
              "      <th>4</th>\n",
              "      <td>Cadeira de escritório</td>\n",
              "      <td>moveis</td>\n",
              "      <td>446.99</td>\n",
              "      <td>26.964689</td>\n",
              "      <td>07/11/2020</td>\n",
              "      <td>Larissa Alves</td>\n",
              "      <td>MG</td>\n",
              "      <td>5</td>\n",
              "      <td>boleto</td>\n",
              "      <td>1</td>\n",
              "      <td>-18.10</td>\n",
              "      <td>-44.38</td>\n",
              "    </tr>\n",
              "    <tr>\n",
              "      <th>...</th>\n",
              "      <td>...</td>\n",
              "      <td>...</td>\n",
              "      <td>...</td>\n",
              "      <td>...</td>\n",
              "      <td>...</td>\n",
              "      <td>...</td>\n",
              "      <td>...</td>\n",
              "      <td>...</td>\n",
              "      <td>...</td>\n",
              "      <td>...</td>\n",
              "      <td>...</td>\n",
              "      <td>...</td>\n",
              "    </tr>\n",
              "    <tr>\n",
              "      <th>2354</th>\n",
              "      <td>Celular Plus X42</td>\n",
              "      <td>eletronicos</td>\n",
              "      <td>1712.54</td>\n",
              "      <td>88.772042</td>\n",
              "      <td>15/11/2021</td>\n",
              "      <td>Thiago Silva</td>\n",
              "      <td>RJ</td>\n",
              "      <td>1</td>\n",
              "      <td>boleto</td>\n",
              "      <td>1</td>\n",
              "      <td>-22.25</td>\n",
              "      <td>-42.66</td>\n",
              "    </tr>\n",
              "    <tr>\n",
              "      <th>2355</th>\n",
              "      <td>Impressora</td>\n",
              "      <td>eletronicos</td>\n",
              "      <td>377.02</td>\n",
              "      <td>20.363958</td>\n",
              "      <td>18/03/2023</td>\n",
              "      <td>Lucas Oliveira</td>\n",
              "      <td>SP</td>\n",
              "      <td>5</td>\n",
              "      <td>boleto</td>\n",
              "      <td>1</td>\n",
              "      <td>-22.19</td>\n",
              "      <td>-48.79</td>\n",
              "    </tr>\n",
              "    <tr>\n",
              "      <th>2356</th>\n",
              "      <td>Jogo de tabuleiro</td>\n",
              "      <td>brinquedos</td>\n",
              "      <td>163.82</td>\n",
              "      <td>9.611337</td>\n",
              "      <td>06/07/2021</td>\n",
              "      <td>Lucas Oliveira</td>\n",
              "      <td>PR</td>\n",
              "      <td>5</td>\n",
              "      <td>cartao_credito</td>\n",
              "      <td>4</td>\n",
              "      <td>-24.89</td>\n",
              "      <td>-51.55</td>\n",
              "    </tr>\n",
              "    <tr>\n",
              "      <th>2357</th>\n",
              "      <td>Cama box</td>\n",
              "      <td>moveis</td>\n",
              "      <td>921.77</td>\n",
              "      <td>46.665919</td>\n",
              "      <td>02/05/2022</td>\n",
              "      <td>Pedro Gomes</td>\n",
              "      <td>RN</td>\n",
              "      <td>1</td>\n",
              "      <td>cartao_credito</td>\n",
              "      <td>2</td>\n",
              "      <td>-5.81</td>\n",
              "      <td>-36.59</td>\n",
              "    </tr>\n",
              "    <tr>\n",
              "      <th>2358</th>\n",
              "      <td>Smartwatch</td>\n",
              "      <td>eletronicos</td>\n",
              "      <td>259.95</td>\n",
              "      <td>11.425995</td>\n",
              "      <td>18/06/2022</td>\n",
              "      <td>Felipe Santos</td>\n",
              "      <td>RS</td>\n",
              "      <td>4</td>\n",
              "      <td>cartao_credito</td>\n",
              "      <td>1</td>\n",
              "      <td>-30.17</td>\n",
              "      <td>-53.50</td>\n",
              "    </tr>\n",
              "  </tbody>\n",
              "</table>\n",
              "<p>2359 rows × 12 columns</p>\n",
              "</div>\n",
              "    <div class=\"colab-df-buttons\">\n",
              "\n",
              "  <div class=\"colab-df-container\">\n",
              "    <button class=\"colab-df-convert\" onclick=\"convertToInteractive('df-c2c5017c-d00a-4c17-b299-638e7345da2b')\"\n",
              "            title=\"Convert this dataframe to an interactive table.\"\n",
              "            style=\"display:none;\">\n",
              "\n",
              "  <svg xmlns=\"http://www.w3.org/2000/svg\" height=\"24px\" viewBox=\"0 -960 960 960\">\n",
              "    <path d=\"M120-120v-720h720v720H120Zm60-500h600v-160H180v160Zm220 220h160v-160H400v160Zm0 220h160v-160H400v160ZM180-400h160v-160H180v160Zm440 0h160v-160H620v160ZM180-180h160v-160H180v160Zm440 0h160v-160H620v160Z\"/>\n",
              "  </svg>\n",
              "    </button>\n",
              "\n",
              "  <style>\n",
              "    .colab-df-container {\n",
              "      display:flex;\n",
              "      gap: 12px;\n",
              "    }\n",
              "\n",
              "    .colab-df-convert {\n",
              "      background-color: #E8F0FE;\n",
              "      border: none;\n",
              "      border-radius: 50%;\n",
              "      cursor: pointer;\n",
              "      display: none;\n",
              "      fill: #1967D2;\n",
              "      height: 32px;\n",
              "      padding: 0 0 0 0;\n",
              "      width: 32px;\n",
              "    }\n",
              "\n",
              "    .colab-df-convert:hover {\n",
              "      background-color: #E2EBFA;\n",
              "      box-shadow: 0px 1px 2px rgba(60, 64, 67, 0.3), 0px 1px 3px 1px rgba(60, 64, 67, 0.15);\n",
              "      fill: #174EA6;\n",
              "    }\n",
              "\n",
              "    .colab-df-buttons div {\n",
              "      margin-bottom: 4px;\n",
              "    }\n",
              "\n",
              "    [theme=dark] .colab-df-convert {\n",
              "      background-color: #3B4455;\n",
              "      fill: #D2E3FC;\n",
              "    }\n",
              "\n",
              "    [theme=dark] .colab-df-convert:hover {\n",
              "      background-color: #434B5C;\n",
              "      box-shadow: 0px 1px 3px 1px rgba(0, 0, 0, 0.15);\n",
              "      filter: drop-shadow(0px 1px 2px rgba(0, 0, 0, 0.3));\n",
              "      fill: #FFFFFF;\n",
              "    }\n",
              "  </style>\n",
              "\n",
              "    <script>\n",
              "      const buttonEl =\n",
              "        document.querySelector('#df-c2c5017c-d00a-4c17-b299-638e7345da2b button.colab-df-convert');\n",
              "      buttonEl.style.display =\n",
              "        google.colab.kernel.accessAllowed ? 'block' : 'none';\n",
              "\n",
              "      async function convertToInteractive(key) {\n",
              "        const element = document.querySelector('#df-c2c5017c-d00a-4c17-b299-638e7345da2b');\n",
              "        const dataTable =\n",
              "          await google.colab.kernel.invokeFunction('convertToInteractive',\n",
              "                                                    [key], {});\n",
              "        if (!dataTable) return;\n",
              "\n",
              "        const docLinkHtml = 'Like what you see? Visit the ' +\n",
              "          '<a target=\"_blank\" href=https://colab.research.google.com/notebooks/data_table.ipynb>data table notebook</a>'\n",
              "          + ' to learn more about interactive tables.';\n",
              "        element.innerHTML = '';\n",
              "        dataTable['output_type'] = 'display_data';\n",
              "        await google.colab.output.renderOutput(dataTable, element);\n",
              "        const docLink = document.createElement('div');\n",
              "        docLink.innerHTML = docLinkHtml;\n",
              "        element.appendChild(docLink);\n",
              "      }\n",
              "    </script>\n",
              "  </div>\n",
              "\n",
              "\n",
              "    <div id=\"df-86d317a5-7fe4-4640-b484-d276ed3bf456\">\n",
              "      <button class=\"colab-df-quickchart\" onclick=\"quickchart('df-86d317a5-7fe4-4640-b484-d276ed3bf456')\"\n",
              "                title=\"Suggest charts\"\n",
              "                style=\"display:none;\">\n",
              "\n",
              "<svg xmlns=\"http://www.w3.org/2000/svg\" height=\"24px\"viewBox=\"0 0 24 24\"\n",
              "     width=\"24px\">\n",
              "    <g>\n",
              "        <path d=\"M19 3H5c-1.1 0-2 .9-2 2v14c0 1.1.9 2 2 2h14c1.1 0 2-.9 2-2V5c0-1.1-.9-2-2-2zM9 17H7v-7h2v7zm4 0h-2V7h2v10zm4 0h-2v-4h2v4z\"/>\n",
              "    </g>\n",
              "</svg>\n",
              "      </button>\n",
              "\n",
              "<style>\n",
              "  .colab-df-quickchart {\n",
              "      --bg-color: #E8F0FE;\n",
              "      --fill-color: #1967D2;\n",
              "      --hover-bg-color: #E2EBFA;\n",
              "      --hover-fill-color: #174EA6;\n",
              "      --disabled-fill-color: #AAA;\n",
              "      --disabled-bg-color: #DDD;\n",
              "  }\n",
              "\n",
              "  [theme=dark] .colab-df-quickchart {\n",
              "      --bg-color: #3B4455;\n",
              "      --fill-color: #D2E3FC;\n",
              "      --hover-bg-color: #434B5C;\n",
              "      --hover-fill-color: #FFFFFF;\n",
              "      --disabled-bg-color: #3B4455;\n",
              "      --disabled-fill-color: #666;\n",
              "  }\n",
              "\n",
              "  .colab-df-quickchart {\n",
              "    background-color: var(--bg-color);\n",
              "    border: none;\n",
              "    border-radius: 50%;\n",
              "    cursor: pointer;\n",
              "    display: none;\n",
              "    fill: var(--fill-color);\n",
              "    height: 32px;\n",
              "    padding: 0;\n",
              "    width: 32px;\n",
              "  }\n",
              "\n",
              "  .colab-df-quickchart:hover {\n",
              "    background-color: var(--hover-bg-color);\n",
              "    box-shadow: 0 1px 2px rgba(60, 64, 67, 0.3), 0 1px 3px 1px rgba(60, 64, 67, 0.15);\n",
              "    fill: var(--button-hover-fill-color);\n",
              "  }\n",
              "\n",
              "  .colab-df-quickchart-complete:disabled,\n",
              "  .colab-df-quickchart-complete:disabled:hover {\n",
              "    background-color: var(--disabled-bg-color);\n",
              "    fill: var(--disabled-fill-color);\n",
              "    box-shadow: none;\n",
              "  }\n",
              "\n",
              "  .colab-df-spinner {\n",
              "    border: 2px solid var(--fill-color);\n",
              "    border-color: transparent;\n",
              "    border-bottom-color: var(--fill-color);\n",
              "    animation:\n",
              "      spin 1s steps(1) infinite;\n",
              "  }\n",
              "\n",
              "  @keyframes spin {\n",
              "    0% {\n",
              "      border-color: transparent;\n",
              "      border-bottom-color: var(--fill-color);\n",
              "      border-left-color: var(--fill-color);\n",
              "    }\n",
              "    20% {\n",
              "      border-color: transparent;\n",
              "      border-left-color: var(--fill-color);\n",
              "      border-top-color: var(--fill-color);\n",
              "    }\n",
              "    30% {\n",
              "      border-color: transparent;\n",
              "      border-left-color: var(--fill-color);\n",
              "      border-top-color: var(--fill-color);\n",
              "      border-right-color: var(--fill-color);\n",
              "    }\n",
              "    40% {\n",
              "      border-color: transparent;\n",
              "      border-right-color: var(--fill-color);\n",
              "      border-top-color: var(--fill-color);\n",
              "    }\n",
              "    60% {\n",
              "      border-color: transparent;\n",
              "      border-right-color: var(--fill-color);\n",
              "    }\n",
              "    80% {\n",
              "      border-color: transparent;\n",
              "      border-right-color: var(--fill-color);\n",
              "      border-bottom-color: var(--fill-color);\n",
              "    }\n",
              "    90% {\n",
              "      border-color: transparent;\n",
              "      border-bottom-color: var(--fill-color);\n",
              "    }\n",
              "  }\n",
              "</style>\n",
              "\n",
              "      <script>\n",
              "        async function quickchart(key) {\n",
              "          const quickchartButtonEl =\n",
              "            document.querySelector('#' + key + ' button');\n",
              "          quickchartButtonEl.disabled = true;  // To prevent multiple clicks.\n",
              "          quickchartButtonEl.classList.add('colab-df-spinner');\n",
              "          try {\n",
              "            const charts = await google.colab.kernel.invokeFunction(\n",
              "                'suggestCharts', [key], {});\n",
              "          } catch (error) {\n",
              "            console.error('Error during call to suggestCharts:', error);\n",
              "          }\n",
              "          quickchartButtonEl.classList.remove('colab-df-spinner');\n",
              "          quickchartButtonEl.classList.add('colab-df-quickchart-complete');\n",
              "        }\n",
              "        (() => {\n",
              "          let quickchartButtonEl =\n",
              "            document.querySelector('#df-86d317a5-7fe4-4640-b484-d276ed3bf456 button');\n",
              "          quickchartButtonEl.style.display =\n",
              "            google.colab.kernel.accessAllowed ? 'block' : 'none';\n",
              "        })();\n",
              "      </script>\n",
              "    </div>\n",
              "\n",
              "  <div id=\"id_1973ba7c-8a8b-4a17-8302-820b0bb271d2\">\n",
              "    <style>\n",
              "      .colab-df-generate {\n",
              "        background-color: #E8F0FE;\n",
              "        border: none;\n",
              "        border-radius: 50%;\n",
              "        cursor: pointer;\n",
              "        display: none;\n",
              "        fill: #1967D2;\n",
              "        height: 32px;\n",
              "        padding: 0 0 0 0;\n",
              "        width: 32px;\n",
              "      }\n",
              "\n",
              "      .colab-df-generate:hover {\n",
              "        background-color: #E2EBFA;\n",
              "        box-shadow: 0px 1px 2px rgba(60, 64, 67, 0.3), 0px 1px 3px 1px rgba(60, 64, 67, 0.15);\n",
              "        fill: #174EA6;\n",
              "      }\n",
              "\n",
              "      [theme=dark] .colab-df-generate {\n",
              "        background-color: #3B4455;\n",
              "        fill: #D2E3FC;\n",
              "      }\n",
              "\n",
              "      [theme=dark] .colab-df-generate:hover {\n",
              "        background-color: #434B5C;\n",
              "        box-shadow: 0px 1px 3px 1px rgba(0, 0, 0, 0.15);\n",
              "        filter: drop-shadow(0px 1px 2px rgba(0, 0, 0, 0.3));\n",
              "        fill: #FFFFFF;\n",
              "      }\n",
              "    </style>\n",
              "    <button class=\"colab-df-generate\" onclick=\"generateWithVariable('loja')\"\n",
              "            title=\"Generate code using this dataframe.\"\n",
              "            style=\"display:none;\">\n",
              "\n",
              "  <svg xmlns=\"http://www.w3.org/2000/svg\" height=\"24px\"viewBox=\"0 0 24 24\"\n",
              "       width=\"24px\">\n",
              "    <path d=\"M7,19H8.4L18.45,9,17,7.55,7,17.6ZM5,21V16.75L18.45,3.32a2,2,0,0,1,2.83,0l1.4,1.43a1.91,1.91,0,0,1,.58,1.4,1.91,1.91,0,0,1-.58,1.4L9.25,21ZM18.45,9,17,7.55Zm-12,3A5.31,5.31,0,0,0,4.9,8.1,5.31,5.31,0,0,0,1,6.5,5.31,5.31,0,0,0,4.9,4.9,5.31,5.31,0,0,0,6.5,1,5.31,5.31,0,0,0,8.1,4.9,5.31,5.31,0,0,0,12,6.5,5.46,5.46,0,0,0,6.5,12Z\"/>\n",
              "  </svg>\n",
              "    </button>\n",
              "    <script>\n",
              "      (() => {\n",
              "      const buttonEl =\n",
              "        document.querySelector('#id_1973ba7c-8a8b-4a17-8302-820b0bb271d2 button.colab-df-generate');\n",
              "      buttonEl.style.display =\n",
              "        google.colab.kernel.accessAllowed ? 'block' : 'none';\n",
              "\n",
              "      buttonEl.onclick = () => {\n",
              "        google.colab.notebook.generateWithVariable('loja');\n",
              "      }\n",
              "      })();\n",
              "    </script>\n",
              "  </div>\n",
              "\n",
              "    </div>\n",
              "  </div>\n"
            ],
            "application/vnd.google.colaboratory.intrinsic+json": {
              "type": "dataframe",
              "variable_name": "loja",
              "summary": "{\n  \"name\": \"loja\",\n  \"rows\": 2359,\n  \"fields\": [\n    {\n      \"column\": \"Produto\",\n      \"properties\": {\n        \"dtype\": \"category\",\n        \"num_unique_values\": 51,\n        \"samples\": [\n          \"Viol\\u00e3o\",\n          \"Bola de basquete\",\n          \"Smartwatch\"\n        ],\n        \"semantic_type\": \"\",\n        \"description\": \"\"\n      }\n    },\n    {\n      \"column\": \"Categoria do Produto\",\n      \"properties\": {\n        \"dtype\": \"category\",\n        \"num_unique_values\": 8,\n        \"samples\": [\n          \"moveis\",\n          \"esporte e lazer\",\n          \"eletronicos\"\n        ],\n        \"semantic_type\": \"\",\n        \"description\": \"\"\n      }\n    },\n    {\n      \"column\": \"Pre\\u00e7o\",\n      \"properties\": {\n        \"dtype\": \"number\",\n        \"std\": 819.5827782539145,\n        \"min\": 10.07,\n        \"max\": 3969.38,\n        \"num_unique_values\": 2315,\n        \"samples\": [\n          446.11,\n          107.31,\n          65.86\n        ],\n        \"semantic_type\": \"\",\n        \"description\": \"\"\n      }\n    },\n    {\n      \"column\": \"Frete\",\n      \"properties\": {\n        \"dtype\": \"number\",\n        \"std\": 43.814183327408166,\n        \"min\": 0.0,\n        \"max\": 214.3770604781,\n        \"num_unique_values\": 2149,\n        \"samples\": [\n          83.815279607,\n          16.069664669,\n          14.0344876928\n        ],\n        \"semantic_type\": \"\",\n        \"description\": \"\"\n      }\n    },\n    {\n      \"column\": \"Data da Compra\",\n      \"properties\": {\n        \"dtype\": \"object\",\n        \"num_unique_values\": 1018,\n        \"samples\": [\n          \"15/09/2022\",\n          \"03/06/2020\",\n          \"06/11/2021\"\n        ],\n        \"semantic_type\": \"\",\n        \"description\": \"\"\n      }\n    },\n    {\n      \"column\": \"Vendedor\",\n      \"properties\": {\n        \"dtype\": \"category\",\n        \"num_unique_values\": 14,\n        \"samples\": [\n          \"Juliana Costa\",\n          \"Mariana Ferreira\",\n          \"Pedro Gomes\"\n        ],\n        \"semantic_type\": \"\",\n        \"description\": \"\"\n      }\n    },\n    {\n      \"column\": \"Local da compra\",\n      \"properties\": {\n        \"dtype\": \"category\",\n        \"num_unique_values\": 26,\n        \"samples\": [\n          \"TO\",\n          \"RN\",\n          \"SP\"\n        ],\n        \"semantic_type\": \"\",\n        \"description\": \"\"\n      }\n    },\n    {\n      \"column\": \"Avalia\\u00e7\\u00e3o da compra\",\n      \"properties\": {\n        \"dtype\": \"number\",\n        \"std\": 1,\n        \"min\": 1,\n        \"max\": 5,\n        \"num_unique_values\": 5,\n        \"samples\": [\n          1,\n          2,\n          5\n        ],\n        \"semantic_type\": \"\",\n        \"description\": \"\"\n      }\n    },\n    {\n      \"column\": \"Tipo de pagamento\",\n      \"properties\": {\n        \"dtype\": \"category\",\n        \"num_unique_values\": 4,\n        \"samples\": [\n          \"boleto\",\n          \"cartao_debito\",\n          \"cartao_credito\"\n        ],\n        \"semantic_type\": \"\",\n        \"description\": \"\"\n      }\n    },\n    {\n      \"column\": \"Quantidade de parcelas\",\n      \"properties\": {\n        \"dtype\": \"number\",\n        \"std\": 2,\n        \"min\": 1,\n        \"max\": 24,\n        \"num_unique_values\": 15,\n        \"samples\": [\n          7,\n          14,\n          8\n        ],\n        \"semantic_type\": \"\",\n        \"description\": \"\"\n      }\n    },\n    {\n      \"column\": \"lat\",\n      \"properties\": {\n        \"dtype\": \"number\",\n        \"std\": 5.372399916530833,\n        \"min\": -30.17,\n        \"max\": 1.41,\n        \"num_unique_values\": 26,\n        \"samples\": [\n          -9.46,\n          -5.81,\n          -22.19\n        ],\n        \"semantic_type\": \"\",\n        \"description\": \"\"\n      }\n    },\n    {\n      \"column\": \"lon\",\n      \"properties\": {\n        \"dtype\": \"number\",\n        \"std\": 4.183180020544179,\n        \"min\": -70.55,\n        \"max\": -36.59,\n        \"num_unique_values\": 26,\n        \"samples\": [\n          -48.26,\n          -36.59,\n          -48.79\n        ],\n        \"semantic_type\": \"\",\n        \"description\": \"\"\n      }\n    }\n  ]\n}"
            }
          },
          "metadata": {}
        }
      ]
    },
    {
      "cell_type": "markdown",
      "source": [
        "#1. Análise do faturamento\n"
      ],
      "metadata": {
        "id": "X62IW3KFUIYm"
      }
    },
    {
      "cell_type": "code",
      "source": [
        "# Faturamento da loja 1\n",
        "faturamento_loja1 = loja['Preço'].sum()\n",
        "\n",
        "# Faturamento da loja 2\n",
        "faturamento_loja2 = loja2['Preço'].sum()\n",
        "\n",
        "# Faturamento da loja 3\n",
        "faturamento_loja3 = loja3['Preço'].sum()\n",
        "\n",
        "# Faturamento da loja 4\n",
        "faturamento_loja4 = loja4['Preço'].sum()\n",
        "\n",
        "# Exibindo os resultados\n",
        "print(f\"Faturamento Loja 1: R${faturamento_loja1:.2f}\")\n",
        "print(f\"Faturamento Loja 2: R${faturamento_loja2:.2f}\")\n",
        "print(f\"Faturamento Loja 3: R${faturamento_loja3:.2f}\")\n",
        "print(f\"Faturamento Loja 4: R${faturamento_loja4:.2f}\")\n"
      ],
      "metadata": {
        "colab": {
          "base_uri": "https://localhost:8080/"
        },
        "id": "aO-Wy7YmqyNm",
        "outputId": "e86d923f-82fe-4d0f-b94a-66ef6d7bd5b5"
      },
      "execution_count": 26,
      "outputs": [
        {
          "output_type": "stream",
          "name": "stdout",
          "text": [
            "Faturamento Loja 1: R$1534509.12\n",
            "Faturamento Loja 2: R$1488459.06\n",
            "Faturamento Loja 3: R$1464025.03\n",
            "Faturamento Loja 4: R$1384497.58\n"
          ]
        }
      ]
    },
    {
      "cell_type": "markdown",
      "source": [
        "# 2. Vendas por Categoria\n"
      ],
      "metadata": {
        "id": "2V_vcAPzWZmR"
      }
    },
    {
      "cell_type": "code",
      "source": [
        "# Loja 1\n",
        "vendas_categoria_loja1 = loja.groupby('Categoria do Produto')['Produto'].count().sort_values(ascending=False)\n",
        "print(\"Loja 1 - Quantidade de produtos vendidos por categoria:\")\n",
        "print(vendas_categoria_loja1)\n"
      ],
      "metadata": {
        "id": "yZR6cOjXYSk1",
        "colab": {
          "base_uri": "https://localhost:8080/"
        },
        "outputId": "25648c7d-c6aa-4108-a0f3-b9a30859ded8"
      },
      "execution_count": 27,
      "outputs": [
        {
          "output_type": "stream",
          "name": "stdout",
          "text": [
            "Loja 1 - Quantidade de produtos vendidos por categoria:\n",
            "Categoria do Produto\n",
            "moveis                   465\n",
            "eletronicos              448\n",
            "brinquedos               324\n",
            "eletrodomesticos         312\n",
            "esporte e lazer          284\n",
            "instrumentos musicais    182\n",
            "livros                   173\n",
            "utilidades domesticas    171\n",
            "Name: Produto, dtype: int64\n"
          ]
        }
      ]
    },
    {
      "cell_type": "code",
      "source": [
        "plt.figure(figsize=(8, 4))\n",
        "plt.barh(vendas_categoria_loja1.index, vendas_categoria_loja1.values)\n",
        "plt.title('Vendas por Categoria -> Loja Um')\n",
        "plt.xlabel('Quantidade Vendida')\n",
        "plt.ylabel('Categoria do Produto', labelpad=22)\n",
        "plt.tight_layout()\n",
        "plt.show()\n"
      ],
      "metadata": {
        "colab": {
          "base_uri": "https://localhost:8080/",
          "height": 407
        },
        "id": "6ic4oDYP9dbo",
        "outputId": "edd2c7d3-9462-4194-cf0f-4de8efe0a6cd"
      },
      "execution_count": 28,
      "outputs": [
        {
          "output_type": "display_data",
          "data": {
            "text/plain": [
              "<Figure size 800x400 with 1 Axes>"
            ],
            "image/png": "[encoded data removed]"
          },
          "metadata": {}
        }
      ]
    },
    {
      "cell_type": "code",
      "source": [
        "# Loja 2\n",
        "vendas_categoria_loja2 = loja2.groupby('Categoria do Produto')['Produto'].count().sort_values(ascending=False)\n",
        "print(\"\\nLoja 2 - Quantidade de produtos vendidos por categoria:\")\n",
        "print(vendas_categoria_loja2)"
      ],
      "metadata": {
        "colab": {
          "base_uri": "https://localhost:8080/"
        },
        "id": "ZvjNI1_jt0yv",
        "outputId": "57ba19be-1826-4fc8-c673-d76fc4780a6b"
      },
      "execution_count": 29,
      "outputs": [
        {
          "output_type": "stream",
          "name": "stdout",
          "text": [
            "\n",
            "Loja 2 - Quantidade de produtos vendidos por categoria:\n",
            "Categoria do Produto\n",
            "moveis                   442\n",
            "eletronicos              422\n",
            "brinquedos               313\n",
            "eletrodomesticos         305\n",
            "esporte e lazer          275\n",
            "instrumentos musicais    224\n",
            "livros                   197\n",
            "utilidades domesticas    181\n",
            "Name: Produto, dtype: int64\n"
          ]
        }
      ]
    },
    {
      "cell_type": "code",
      "source": [
        "# Loja 3\n",
        "vendas_categoria_loja3 = loja3.groupby('Categoria do Produto')['Produto'].count().sort_values(ascending=False)\n",
        "print(\"\\nLoja 3 - Quantidade de produtos vendidos por categoria:\")\n",
        "print(vendas_categoria_loja3)"
      ],
      "metadata": {
        "colab": {
          "base_uri": "https://localhost:8080/"
        },
        "id": "tFZqbzRot0q3",
        "outputId": "c1aa5654-bdd2-488b-bc5f-33f2aac440d9"
      },
      "execution_count": 30,
      "outputs": [
        {
          "output_type": "stream",
          "name": "stdout",
          "text": [
            "\n",
            "Loja 3 - Quantidade de produtos vendidos por categoria:\n",
            "Categoria do Produto\n",
            "moveis                   499\n",
            "eletronicos              451\n",
            "brinquedos               315\n",
            "eletrodomesticos         278\n",
            "esporte e lazer          277\n",
            "livros                   185\n",
            "instrumentos musicais    177\n",
            "utilidades domesticas    177\n",
            "Name: Produto, dtype: int64\n"
          ]
        }
      ]
    },
    {
      "cell_type": "code",
      "source": [
        "# Loja 4\n",
        "vendas_categoria_loja4 = loja4.groupby('Categoria do Produto')['Produto'].count().sort_values(ascending=False)\n",
        "print(\"\\nLoja 4 - Quantidade de produtos vendidos por categoria:\")\n",
        "print(vendas_categoria_loja4)"
      ],
      "metadata": {
        "colab": {
          "base_uri": "https://localhost:8080/"
        },
        "id": "QTbE83FWt0ed",
        "outputId": "d70db4f3-5431-4b38-fb6a-4af2b5b0b73d"
      },
      "execution_count": 31,
      "outputs": [
        {
          "output_type": "stream",
          "name": "stdout",
          "text": [
            "\n",
            "Loja 4 - Quantidade de produtos vendidos por categoria:\n",
            "Categoria do Produto\n",
            "moveis                   480\n",
            "eletronicos              451\n",
            "brinquedos               338\n",
            "esporte e lazer          277\n",
            "eletrodomesticos         254\n",
            "utilidades domesticas    201\n",
            "livros                   187\n",
            "instrumentos musicais    170\n",
            "Name: Produto, dtype: int64\n"
          ]
        }
      ]
    },
    {
      "cell_type": "code",
      "source": [
        "dados_lojas"
      ],
      "metadata": {
        "colab": {
          "base_uri": "https://localhost:8080/"
        },
        "id": "4a7jh4S7GZVy",
        "outputId": "3d79d9d7-bedc-41d7-dcfa-4f8a8232c389"
      },
      "execution_count": 48,
      "outputs": [
        {
          "output_type": "execute_result",
          "data": {
            "text/plain": [
              "{'Loja 1':                     Produto Categoria do Produto    Preço      Frete  \\\n",
              " 0        Assistente virtual          eletronicos   219.08   9.249790   \n",
              " 1            Mesa de jantar               moveis   256.35  11.234305   \n",
              " 2         Jogo de tabuleiro           brinquedos   279.51  21.262681   \n",
              " 3               Micro-ondas     eletrodomesticos  1009.99  54.667344   \n",
              " 4     Cadeira de escritório               moveis   446.99  26.964689   \n",
              " ...                     ...                  ...      ...        ...   \n",
              " 2354       Celular Plus X42          eletronicos  1712.54  88.772042   \n",
              " 2355             Impressora          eletronicos   377.02  20.363958   \n",
              " 2356      Jogo de tabuleiro           brinquedos   163.82   9.611337   \n",
              " 2357               Cama box               moveis   921.77  46.665919   \n",
              " 2358             Smartwatch          eletronicos   259.95  11.425995   \n",
              " \n",
              "      Data da Compra        Vendedor Local da compra  Avaliação da compra  \\\n",
              " 0        16/01/2021     Pedro Gomes              SP                    4   \n",
              " 1        18/05/2022  Beatriz Moraes              RJ                    1   \n",
              " 2        15/03/2021      João Souza              DF                    1   \n",
              " 3        03/05/2022      João Souza              RS                    4   \n",
              " 4        07/11/2020   Larissa Alves              MG                    5   \n",
              " ...             ...             ...             ...                  ...   \n",
              " 2354     15/11/2021    Thiago Silva              RJ                    1   \n",
              " 2355     18/03/2023  Lucas Oliveira              SP                    5   \n",
              " 2356     06/07/2021  Lucas Oliveira              PR                    5   \n",
              " 2357     02/05/2022     Pedro Gomes              RN                    1   \n",
              " 2358     18/06/2022   Felipe Santos              RS                    4   \n",
              " \n",
              "      Tipo de pagamento  Quantidade de parcelas    lat    lon  \n",
              " 0       cartao_credito                       8 -22.19 -48.79  \n",
              " 1       cartao_credito                       4 -22.25 -42.66  \n",
              " 2       cartao_credito                       1 -15.83 -47.86  \n",
              " 3               boleto                       1 -30.17 -53.50  \n",
              " 4               boleto                       1 -18.10 -44.38  \n",
              " ...                ...                     ...    ...    ...  \n",
              " 2354            boleto                       1 -22.25 -42.66  \n",
              " 2355            boleto                       1 -22.19 -48.79  \n",
              " 2356    cartao_credito                       4 -24.89 -51.55  \n",
              " 2357    cartao_credito                       2  -5.81 -36.59  \n",
              " 2358    cartao_credito                       1 -30.17 -53.50  \n",
              " \n",
              " [2359 rows x 12 columns],\n",
              " 'Loja 2':                     Produto   Categoria do Produto    Preço       Frete  \\\n",
              " 0     Cadeira de escritório                 moveis   378.20   20.421138   \n",
              " 1                  Pandeiro  instrumentos musicais   102.37    3.035334   \n",
              " 2                 Cama king                 moveis   591.13   31.759020   \n",
              " 3                 Cama king                 moveis  1208.24   61.919584   \n",
              " 4     Cadeira de escritório                 moveis   530.41   25.827176   \n",
              " ...                     ...                    ...      ...         ...   \n",
              " 2354        Jogo de panelas  utilidades domesticas   187.01   10.846135   \n",
              " 2355     Lavadora de roupas       eletrodomesticos  1626.85   86.907994   \n",
              " 2356            Micro-ondas       eletrodomesticos  1063.85   57.177917   \n",
              " 2357       Celular Plus X42            eletronicos  2965.72  155.500107   \n",
              " 2358              Bicicleta        esporte e lazer   734.62   36.700744   \n",
              " \n",
              "      Data da Compra          Vendedor Local da compra  Avaliação da compra  \\\n",
              " 0        04/08/2021      Thiago Silva              MG                    1   \n",
              " 1        26/11/2020     Bianca Santos              RJ                    3   \n",
              " 2        22/10/2021      Thiago Silva              SC                    5   \n",
              " 3        04/05/2022     Larissa Alves              RS                    5   \n",
              " 4        26/02/2022    Lucas Oliveira              SP                    4   \n",
              " ...             ...               ...             ...                  ...   \n",
              " 2354     04/12/2022   Bruno Rodrigues              BA                    5   \n",
              " 2355     09/02/2020  Isabella Pereira              SP                    4   \n",
              " 2356     27/09/2022     Bianca Santos              SP                    5   \n",
              " 2357     21/04/2022        João Souza              RJ                    5   \n",
              " 2358     03/09/2022     Larissa Alves              MG                    4   \n",
              " \n",
              "      Tipo de pagamento  Quantidade de parcelas    lat    lon  \n",
              " 0               boleto                       1 -18.10 -44.38  \n",
              " 1       cartao_credito                       4 -22.25 -42.66  \n",
              " 2       cartao_credito                      10 -27.45 -50.95  \n",
              " 3       cartao_credito                      10 -30.17 -53.50  \n",
              " 4       cartao_credito                       3 -22.19 -48.79  \n",
              " ...                ...                     ...    ...    ...  \n",
              " 2354    cartao_credito                       2 -13.29 -41.71  \n",
              " 2355    cartao_credito                       5 -22.19 -48.79  \n",
              " 2356            boleto                       1 -22.19 -48.79  \n",
              " 2357    cartao_credito                       2 -22.25 -42.66  \n",
              " 2358    cartao_credito                       1 -18.10 -44.38  \n",
              " \n",
              " [2359 rows x 12 columns],\n",
              " 'Loja 3':                       Produto   Categoria do Produto    Preço      Frete  \\\n",
              " 0          Secadora de roupas       eletrodomesticos  1713.50  88.823159   \n",
              " 1                      Cômoda                 moveis   386.81  18.180908   \n",
              " 2                      Violão  instrumentos musicais   404.62  23.197592   \n",
              " 3               Bola de vôlei        esporte e lazer    78.40   4.463341   \n",
              " 4               Guarda roupas                 moveis   694.76  34.578319   \n",
              " ...                       ...                    ...      ...        ...   \n",
              " 2354  Dashboards com Power BI                 livros    35.61   2.835973   \n",
              " 2355  Dashboards com Power BI                 livros    42.38   2.943620   \n",
              " 2356    Cadeira de escritório                 moveis   636.10  34.159188   \n",
              " 2357           Mesa de centro                 moveis   164.15   6.324933   \n",
              " 2358      Modelagem preditiva                 livros    84.56  12.580214   \n",
              " \n",
              "      Data da Compra          Vendedor Local da compra  Avaliação da compra  \\\n",
              " 0        17/12/2021    Camila Ribeiro              CE                    4   \n",
              " 1        10/02/2021     Larissa Alves              RS                    3   \n",
              " 2        22/01/2023    Lucas Oliveira              SP                    5   \n",
              " 3        22/03/2022       Pedro Gomes              BA                    4   \n",
              " 4        12/01/2022     Bianca Santos              SP                    1   \n",
              " ...             ...               ...             ...                  ...   \n",
              " 2354     21/10/2022   Bruno Rodrigues              SP                    5   \n",
              " 2355     23/06/2022     Bianca Santos              SC                    5   \n",
              " 2356     19/02/2023    Camila Ribeiro              DF                    5   \n",
              " 2357     19/09/2021     Bianca Santos              SP                    4   \n",
              " 2358     24/05/2022  Mariana Ferreira              RJ                    5   \n",
              " \n",
              "      Tipo de pagamento  Quantidade de parcelas    lat    lon  \n",
              " 0       cartao_credito                       4  -5.20 -39.53  \n",
              " 1       cartao_credito                       1 -30.17 -53.50  \n",
              " 2       cartao_credito                       3 -22.19 -48.79  \n",
              " 3       cartao_credito                       6 -13.29 -41.71  \n",
              " 4       cartao_credito                       1 -22.19 -48.79  \n",
              " ...                ...                     ...    ...    ...  \n",
              " 2354    cartao_credito                       1 -22.19 -48.79  \n",
              " 2355    cartao_credito                       1 -27.45 -50.95  \n",
              " 2356    cartao_credito                       3 -15.83 -47.86  \n",
              " 2357    cartao_credito                       8 -22.19 -48.79  \n",
              " 2358    cartao_credito                      10 -22.25 -42.66  \n",
              " \n",
              " [2359 rows x 12 columns],\n",
              " 'Loja 4':                     Produto   Categoria do Produto    Preço      Frete  \\\n",
              " 0               Lava louças       eletrodomesticos  1446.46  74.604083   \n",
              " 1                  Cama box                 moveis   631.70  33.919251   \n",
              " 2          Bola de basquete        esporte e lazer    31.54   0.000000   \n",
              " 3       Modelagem preditiva                 livros    76.93   1.680730   \n",
              " 4            Fone de ouvido            eletronicos   185.14   7.442587   \n",
              " ...                     ...                    ...      ...        ...   \n",
              " 2353         Mesa de jantar                 moveis   303.60  16.852799   \n",
              " 2354  Cadeira de escritório                 moveis   456.02  24.812798   \n",
              " 2355           Copo térmico        esporte e lazer    48.99   3.139675   \n",
              " 2356        Jogo de panelas  utilidades domesticas   202.45  11.062979   \n",
              " 2357         Corda de pular        esporte e lazer    14.89   1.732696   \n",
              " \n",
              "      Data da Compra        Vendedor Local da compra  Avaliação da compra  \\\n",
              " 0        11/11/2022    Rafael Costa              SP                    4   \n",
              " 1        03/01/2020    Thiago Silva              GO                    5   \n",
              " 2        25/12/2022   Larissa Alves              MG                    5   \n",
              " 3        23/11/2021  Lucas Oliveira              MG                    3   \n",
              " 4        25/04/2022   Bianca Santos              SP                    4   \n",
              " ...             ...             ...             ...                  ...   \n",
              " 2353     12/02/2020  Camila Ribeiro              RJ                    5   \n",
              " 2354     17/05/2022   Felipe Santos              PE                    5   \n",
              " 2355     03/05/2022  Camila Ribeiro              SP                    5   \n",
              " 2356     15/06/2020   Bianca Santos              PR                    5   \n",
              " 2357     17/11/2021   Felipe Santos              SP                    5   \n",
              " \n",
              "      Tipo de pagamento  Quantidade de parcelas    lat    lon  \n",
              " 0       cartao_credito                       3 -22.19 -48.79  \n",
              " 1       cartao_credito                       2 -15.98 -49.86  \n",
              " 2               boleto                       1 -18.10 -44.38  \n",
              " 3               boleto                       1 -18.10 -44.38  \n",
              " 4       cartao_credito                       7 -22.19 -48.79  \n",
              " ...                ...                     ...    ...    ...  \n",
              " 2353    cartao_credito                       1 -22.25 -42.66  \n",
              " 2354    cartao_credito                       3  -8.38 -37.86  \n",
              " 2355    cartao_credito                       1 -22.19 -48.79  \n",
              " 2356    cartao_credito                       1 -24.89 -51.55  \n",
              " 2357    cartao_credito                       1 -22.19 -48.79  \n",
              " \n",
              " [2358 rows x 12 columns]}"
            ]
          },
          "metadata": {},
          "execution_count": 48
        }
      ]
    },
    {
      "cell_type": "code",
      "source": [
        "cores = ['#1f77b4', '#ff7f0e', '#2ca02c', '#d62728']\n",
        "\n",
        "# Concatenar todos os dataframes da loja\n",
        "all_stores_df = pd.concat(dados_lojas.values(), keys=dados_lojas.keys(), names=['Loja', None])\n",
        "\n",
        "# Agrupar por loja e categoria e contar produtos\n",
        "vendas_por_categoria_por_loja = all_stores_df.groupby(['Loja', 'Categoria do Produto'])['Produto'].count().unstack(fill_value=0)\n",
        "\n",
        "# Plotagem\n",
        "fig, ax = plt.subplots(figsize=(12, 7))\n",
        "\n",
        "vendas_por_categoria_por_loja.plot(kind='bar', ax=ax, width=0.8,color=cores)\n",
        "\n",
        "ax.set_title('Vendas por Categoria em Cada Loja')\n",
        "ax.set_xlabel('Loja')\n",
        "ax.set_ylabel('Quantidade Vendida')\n",
        "ax.tick_params(axis='x', rotation=0)\n",
        "ax.legend(title='Categoria do Produto', bbox_to_anchor=(1.05, 1), loc='upper left')\n",
        "\n",
        "plt.tight_layout()\n",
        "plt.show()"
      ],
      "metadata": {
        "colab": {
          "base_uri": "https://localhost:8080/",
          "height": 707
        },
        "id": "A0AXpReEGOWc",
        "outputId": "83eb70b9-789d-43b2-eb0a-98c1b537168f"
      },
      "execution_count": 58,
      "outputs": [
        {
          "output_type": "display_data",
          "data": {
            "text/plain": [
              "<Figure size 1200x700 with 1 Axes>"
            ],
            "image/png": "[encoded data removed]"
          },
          "metadata": {}
        }
      ]
    },
    {
      "cell_type": "markdown",
      "source": [
        "# 3. Média de Avaliação das Lojas"
      ],
      "metadata": {
        "id": "Rq6tU_xSY3jk"
      }
    },
    {
      "cell_type": "code",
      "source": [
        "# Média das avaliações Loja 1\n",
        "media_avaliacao_loja1 = loja['Avaliação da compra'].mean()\n",
        "print(f\"Média de avaliação da Loja 1: {media_avaliacao_loja1:.2f}\")"
      ],
      "metadata": {
        "id": "bh3jjjJwY5MU",
        "colab": {
          "base_uri": "https://localhost:8080/"
        },
        "outputId": "e7083dda-73e4-439e-c976-8828e3e894dd"
      },
      "execution_count": 32,
      "outputs": [
        {
          "output_type": "stream",
          "name": "stdout",
          "text": [
            "Média de avaliação da Loja 1: 3.98\n"
          ]
        }
      ]
    },
    {
      "cell_type": "code",
      "source": [
        "# Média das avaliações Loja 2\n",
        "media_avaliacao_loja2 = loja2['Avaliação da compra'].mean()\n",
        "print(f\"Média de avaliação da Loja 2: {media_avaliacao_loja2:.2f}\")"
      ],
      "metadata": {
        "colab": {
          "base_uri": "https://localhost:8080/"
        },
        "id": "LP50UtgJuESQ",
        "outputId": "1dae00e8-bbf6-4736-ca08-f7523e207fbc"
      },
      "execution_count": 33,
      "outputs": [
        {
          "output_type": "stream",
          "name": "stdout",
          "text": [
            "Média de avaliação da Loja 2: 4.04\n"
          ]
        }
      ]
    },
    {
      "cell_type": "code",
      "source": [
        "# Média das avaliações Loja 3\n",
        "media_avaliacao_loja3 = loja3['Avaliação da compra'].mean()\n",
        "print(f\"Média de avaliação da Loja 3: {media_avaliacao_loja3:.2f}\")"
      ],
      "metadata": {
        "colab": {
          "base_uri": "https://localhost:8080/"
        },
        "id": "qr18UAd8uEPH",
        "outputId": "ccbe7cff-5ef1-4693-e2cb-20dc98583823"
      },
      "execution_count": 34,
      "outputs": [
        {
          "output_type": "stream",
          "name": "stdout",
          "text": [
            "Média de avaliação da Loja 3: 4.05\n"
          ]
        }
      ]
    },
    {
      "cell_type": "code",
      "source": [
        "# Média das avaliações Loja 4\n",
        "media_avaliacao_loja4 = loja4['Avaliação da compra'].mean()\n",
        "print(f\"Média de avaliação da Loja 4: {media_avaliacao_loja4:.2f}\")"
      ],
      "metadata": {
        "id": "I0KkjPoTY88F",
        "colab": {
          "base_uri": "https://localhost:8080/"
        },
        "outputId": "e85654ca-209e-4785-a98d-57c143145819"
      },
      "execution_count": 35,
      "outputs": [
        {
          "output_type": "stream",
          "name": "stdout",
          "text": [
            "Média de avaliação da Loja 4: 4.00\n"
          ]
        }
      ]
    },
    {
      "cell_type": "markdown",
      "source": [
        "# 4. Produtos Mais e Menos Vendidos"
      ],
      "metadata": {
        "id": "DmNp1KPBZCm-"
      }
    },
    {
      "cell_type": "code",
      "source": [
        "# Loja 1\n",
        "vendas_produto_loja1 = loja.groupby('Produto')['Produto'].count().sort_values(ascending=False)\n",
        "print(\"\\nLoja 1 - Produto mais vendido:\")\n",
        "print(vendas_produto_loja1.head(1))\n",
        "print(\"Loja 1 - Produto menos vendido:\")\n",
        "print(vendas_produto_loja1.tail(1))"
      ],
      "metadata": {
        "id": "qoyjqijQZHfF",
        "colab": {
          "base_uri": "https://localhost:8080/"
        },
        "outputId": "c03e9d28-c699-482f-d2b9-46cf7c367663"
      },
      "execution_count": 36,
      "outputs": [
        {
          "output_type": "stream",
          "name": "stdout",
          "text": [
            "\n",
            "Loja 1 - Produto mais vendido:\n",
            "Produto\n",
            "TV Led UHD 4K    60\n",
            "Name: Produto, dtype: int64\n",
            "Loja 1 - Produto menos vendido:\n",
            "Produto\n",
            "Headset    33\n",
            "Name: Produto, dtype: int64\n"
          ]
        }
      ]
    },
    {
      "cell_type": "code",
      "source": [
        "# Separar os mais e menos vendidos\n",
        "mais_vendidos = vendas_produto_loja1.sort_values(ascending=False).head(10)\n",
        "menos_vendidos = vendas_produto_loja1.sort_values(ascending=True).head(10)\n",
        "\n",
        "# Criar gráfico lado a lado\n",
        "fig, axs = plt.subplots(1, 2, figsize=(15, 7), sharex=False)\n",
        "\n",
        "# Gráfico dos mais vendidos\n",
        "axs[0].barh(mais_vendidos.index[::-1], mais_vendidos.values[::-1], color='#2ca02c')\n",
        "axs[0].set_title('Top 10 Produtos Mais Vendidos')\n",
        "axs[0].set_xlabel('Quantidade Vendida')\n",
        "for i, v in enumerate(mais_vendidos.values[::-1]):\n",
        "    axs[0].text(v + 1, i, str(v), va='center')\n",
        "\n",
        "# Gráfico dos menos vendidos\n",
        "axs[1].barh(menos_vendidos.index, menos_vendidos.values, color='#d62728')\n",
        "axs[1].set_title('Top 10 Produtos Menos Vendidos')\n",
        "axs[1].set_xlabel('Quantidade Vendida')\n",
        "for i, v in enumerate(menos_vendidos.values):\n",
        "    axs[1].text(v + 1, i, str(v), va='center')\n",
        "\n",
        "plt.tight_layout()\n",
        "plt.show()"
      ],
      "metadata": {
        "colab": {
          "base_uri": "https://localhost:8080/",
          "height": 671
        },
        "id": "fLo2dNQIMF94",
        "outputId": "f41dd7ba-87dc-4691-92c3-dcbe8f149268"
      },
      "execution_count": 68,
      "outputs": [
        {
          "output_type": "display_data",
          "data": {
            "text/plain": [
              "<Figure size 1500x700 with 2 Axes>"
            ],
            "image/png": "[encoded data removed]"
          },
          "metadata": {}
        }
      ]
    },
    {
      "cell_type": "code",
      "source": [
        "# Loja 2\n",
        "vendas_produto_loja2 = loja2.groupby('Produto')['Produto'].count().sort_values(ascending=False)\n",
        "print(\"\\nLoja 2 - Produto mais vendido:\")\n",
        "print(vendas_produto_loja2.head(1))\n",
        "print(\"Loja 2 - Produto menos vendido:\")\n",
        "print(vendas_produto_loja2.tail(1))"
      ],
      "metadata": {
        "colab": {
          "base_uri": "https://localhost:8080/"
        },
        "id": "QrcGQlYou3nc",
        "outputId": "9fc66cec-1a4c-41de-e926-a12aaa9ff8cf"
      },
      "execution_count": 37,
      "outputs": [
        {
          "output_type": "stream",
          "name": "stdout",
          "text": [
            "\n",
            "Loja 2 - Produto mais vendido:\n",
            "Produto\n",
            "Iniciando em programação    65\n",
            "Name: Produto, dtype: int64\n",
            "Loja 2 - Produto menos vendido:\n",
            "Produto\n",
            "Jogo de tabuleiro    32\n",
            "Name: Produto, dtype: int64\n"
          ]
        }
      ]
    },
    {
      "cell_type": "code",
      "source": [
        "# Loja 3\n",
        "vendas_produto_loja3 = loja3.groupby('Produto')['Produto'].count().sort_values(ascending=False)\n",
        "print(\"\\nLoja 3 - Produto mais vendido:\")\n",
        "print(vendas_produto_loja3.head(1))\n",
        "print(\"Loja 3 - Produto menos vendido:\")\n",
        "print(vendas_produto_loja3.tail(1))"
      ],
      "metadata": {
        "id": "0Sw3sd4IZIGW",
        "colab": {
          "base_uri": "https://localhost:8080/"
        },
        "outputId": "5619c3aa-478b-44a6-c7e0-2271b7adbee6"
      },
      "execution_count": 38,
      "outputs": [
        {
          "output_type": "stream",
          "name": "stdout",
          "text": [
            "\n",
            "Loja 3 - Produto mais vendido:\n",
            "Produto\n",
            "Kit banquetas    57\n",
            "Name: Produto, dtype: int64\n",
            "Loja 3 - Produto menos vendido:\n",
            "Produto\n",
            "Blocos de montar    35\n",
            "Name: Produto, dtype: int64\n"
          ]
        }
      ]
    },
    {
      "cell_type": "code",
      "source": [
        "# Loja 4\n",
        "vendas_produto_loja4 = loja4.groupby('Produto')['Produto'].count().sort_values(ascending=False)\n",
        "print(\"\\nLoja 4 - Produto mais vendido:\")\n",
        "print(vendas_produto_loja4.head(1))\n",
        "print(\"Loja 4 - Produto menos vendido:\")\n",
        "print(vendas_produto_loja4.tail(1))"
      ],
      "metadata": {
        "colab": {
          "base_uri": "https://localhost:8080/"
        },
        "id": "vn_luRAmuyFL",
        "outputId": "739458b6-44ac-443c-957e-9457a237d018"
      },
      "execution_count": 39,
      "outputs": [
        {
          "output_type": "stream",
          "name": "stdout",
          "text": [
            "\n",
            "Loja 4 - Produto mais vendido:\n",
            "Produto\n",
            "Cama box    62\n",
            "Name: Produto, dtype: int64\n",
            "Loja 4 - Produto menos vendido:\n",
            "Produto\n",
            "Guitarra    33\n",
            "Name: Produto, dtype: int64\n"
          ]
        }
      ]
    },
    {
      "cell_type": "markdown",
      "source": [
        "# 5. Frete Médio por Loja\n"
      ],
      "metadata": {
        "id": "Fl0cGi3bZKqU"
      }
    },
    {
      "cell_type": "code",
      "source": [
        "# Média de frete Loja 1\n",
        "frete_medio_loja1 = loja['Frete'].mean()\n",
        "print(f\"\\nMédia de frete da Loja 1: R${frete_medio_loja1:.2f}\")\n",
        "\n",
        "# Média de frete Loja 2\n",
        "frete_medio_loja2 = loja2['Frete'].mean()\n",
        "print(f\"Média de frete da Loja 2: R${frete_medio_loja2:.2f}\")\n",
        "\n",
        "# Média de frete Loja 3\n",
        "frete_medio_loja3 = loja3['Frete'].mean()\n",
        "print(f\"Média de frete da Loja 3: R${frete_medio_loja3:.2f}\")\n",
        "\n",
        "# Média de frete Loja 4\n",
        "frete_medio_loja4 = loja4['Frete'].mean()\n",
        "print(f\"Média de frete da Loja 4: R${frete_medio_loja4:.2f}\")\n"
      ],
      "metadata": {
        "id": "S2JeaCykZNy9",
        "colab": {
          "base_uri": "https://localhost:8080/"
        },
        "outputId": "9ed503ce-280f-48ea-b07d-d55939243a06"
      },
      "execution_count": 40,
      "outputs": [
        {
          "output_type": "stream",
          "name": "stdout",
          "text": [
            "\n",
            "Média de frete da Loja 1: R$34.69\n",
            "Média de frete da Loja 2: R$33.62\n",
            "Média de frete da Loja 3: R$33.07\n",
            "Média de frete da Loja 4: R$31.28\n"
          ]
        }
      ]
    },
    {
      "cell_type": "markdown",
      "source": [
        "# Relatorio Final"
      ],
      "metadata": {
        "id": "NcnNZx32wCc5"
      }
    },
    {
      "cell_type": "code",
      "source": [
        "fretes = []\n",
        "lojas = []\n",
        "\n",
        "# Define the dictionary with the dataframes for each store\n",
        "dados_lojas = {\n",
        "    'Loja 1': loja,\n",
        "    'Loja 2': loja2,\n",
        "    'Loja 3': loja3,\n",
        "    'Loja 4': loja4,\n",
        "}\n",
        "\n",
        "\n",
        "for loja, df in dados_lojas.items():\n",
        "    if 'Frete' in df.columns:\n",
        "        frete_medio = df['Frete'].dropna().mean()\n",
        "        fretes.append(frete_medio)\n",
        "        lojas.append(loja)\n",
        "    else:\n",
        "        print(f\"Atenção: Loja {loja} não possui coluna 'Frete'\")\n",
        "\n",
        "# Só gerar o gráfico se houver dados válidos\n",
        "if fretes:\n",
        "    plt.figure(figsize=(8,5))\n",
        "    plt.bar(lojas, fretes, color='lightgreen')\n",
        "    plt.title('Média de Frete por Loja')\n",
        "    plt.xlabel('Lojas')\n",
        "    plt.ylabel('Frete Médio (R$)')\n",
        "    plt.ylim(0, max(fretes)*1.2)\n",
        "    plt.show()\n",
        "else:\n",
        "    print(\"Nenhuma loja possui dados de frete disponíveis.\")"
      ],
      "metadata": {
        "colab": {
          "base_uri": "https://localhost:8080/",
          "height": 488
        },
        "id": "N0Wwg7b5wM8l",
        "outputId": "cab9beae-f32f-4135-a0c3-97b6db8b262b"
      },
      "execution_count": 41,
      "outputs": [
        {
          "output_type": "display_data",
          "data": {
            "text/plain": [
              "<Figure size 800x500 with 1 Axes>"
            ],
            "image/png": "[encoded data removed]"
          },
          "metadata": {}
        }
      ]
    },
    {
      "cell_type": "code",
      "source": [],
      "metadata": {
        "id": "c_1wzSUuFjAU"
      },
      "execution_count": null,
      "outputs": []
    }
  ]
}